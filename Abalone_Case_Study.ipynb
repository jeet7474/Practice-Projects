{
 "cells": [
  {
   "cell_type": "markdown",
   "id": "9b88334c",
   "metadata": {},
   "source": [
    "# Abalone_Case_Study"
   ]
  },
  {
   "cell_type": "code",
   "execution_count": null,
   "id": "bf449e6b",
   "metadata": {},
   "outputs": [],
   "source": [
    "import pandas as pd\n",
    "import numpy as np\n",
    "import matplotlib.pyplot as plt\n",
    "import seaborn as sns\n",
    "import warnings\n",
    "warnings.filterwarnings(\"ignore\")"
   ]
  },
  {
   "cell_type": "code",
   "execution_count": null,
   "id": "cd666f92",
   "metadata": {},
   "outputs": [],
   "source": [
    "# Loading the dataset\n",
    "\n",
    "df = pd.read_csv(\"abalone.csv\")\n",
    "df.head()"
   ]
  },
  {
   "cell_type": "code",
   "execution_count": null,
   "id": "b594f469",
   "metadata": {},
   "outputs": [],
   "source": [
    "# checking the shape of dataset\n",
    "\n",
    "df.shape"
   ]
  },
  {
   "cell_type": "code",
   "execution_count": null,
   "id": "d664da70",
   "metadata": {},
   "outputs": [],
   "source": [
    "# checking the null values\n",
    "\n",
    "df.isnull().sum()"
   ]
  },
  {
   "cell_type": "code",
   "execution_count": null,
   "id": "65d46571",
   "metadata": {},
   "outputs": [],
   "source": [
    "# checking the data types\n",
    "\n",
    "df.dtypes"
   ]
  },
  {
   "cell_type": "code",
   "execution_count": null,
   "id": "b221a028",
   "metadata": {},
   "outputs": [],
   "source": [
    "# checking the distribution\n",
    "\n",
    "df.describe()"
   ]
  },
  {
   "cell_type": "markdown",
   "id": "4a0d9455",
   "metadata": {},
   "source": [
    "As per the describe method we clearly see that in **Height** column's min value is **0** that means in Height column have some error.\n",
    " - How is it possible ?\n",
    " - Let's check."
   ]
  },
  {
   "cell_type": "code",
   "execution_count": null,
   "id": "5ff73a8b",
   "metadata": {},
   "outputs": [],
   "source": [
    "# Finding the rows which cantains the 0 values\n",
    "\n",
    "df[df['Height'] == 0]"
   ]
  },
  {
   "cell_type": "code",
   "execution_count": null,
   "id": "6731edce",
   "metadata": {},
   "outputs": [],
   "source": [
    "# Droping the useless rows and saving the changes using inplace=True\n",
    "\n",
    "df.drop(index=[1257,3996], inplace=True)"
   ]
  },
  {
   "cell_type": "code",
   "execution_count": null,
   "id": "6c53f7bc",
   "metadata": {},
   "outputs": [],
   "source": [
    "# Re-checking the dataset\n",
    "\n",
    "df.shape"
   ]
  },
  {
   "cell_type": "code",
   "execution_count": null,
   "id": "b134f534",
   "metadata": {},
   "outputs": [],
   "source": [
    "# checking the population of M, F and I (infant)\n",
    "\n",
    "df['Sex'].value_counts()"
   ]
  },
  {
   "cell_type": "code",
   "execution_count": null,
   "id": "b23e4be3",
   "metadata": {},
   "outputs": [],
   "source": [
    "# changing the data types from alplabetical to numerics\n",
    "\n",
    "from sklearn.preprocessing import LabelEncoder\n",
    "\n",
    "le =  LabelEncoder()\n",
    "df['Sex'] = le.fit_transform(df['Sex'])"
   ]
  },
  {
   "cell_type": "code",
   "execution_count": null,
   "id": "164f4bdd",
   "metadata": {},
   "outputs": [],
   "source": [
    "df.tail()"
   ]
  },
  {
   "cell_type": "code",
   "execution_count": null,
   "id": "b53ccbf0",
   "metadata": {},
   "outputs": [],
   "source": [
    "# changing the data types\n",
    "\n",
    "df['Sex'] = df['Sex'].astype('float')\n",
    "df['Rings'] = df['Rings'].astype('float')"
   ]
  },
  {
   "cell_type": "code",
   "execution_count": null,
   "id": "d6da4766",
   "metadata": {},
   "outputs": [],
   "source": [
    "# Re-checking the data types\n",
    "\n",
    "df.dtypes"
   ]
  },
  {
   "cell_type": "markdown",
   "id": "bb44d651",
   "metadata": {},
   "source": [
    "# Correlation between input variables"
   ]
  },
  {
   "cell_type": "code",
   "execution_count": null,
   "id": "f971bb08",
   "metadata": {},
   "outputs": [],
   "source": [
    "# checking the coloumns in dataset\n",
    "\n",
    "df.columns"
   ]
  },
  {
   "cell_type": "code",
   "execution_count": null,
   "id": "81722268",
   "metadata": {},
   "outputs": [],
   "source": [
    "# checking the correlation\n",
    "\n",
    "df.corr()"
   ]
  },
  {
   "cell_type": "code",
   "execution_count": null,
   "id": "d3bf1194",
   "metadata": {},
   "outputs": [],
   "source": [
    "# checking the dependencies using heatmap\n",
    "\n",
    "plt.figure(figsize=(22,20))\n",
    "sns.heatmap(df[['Sex', 'Length', 'Diameter', 'Height', 'Whole weight', 'Shucked weight', 'Viscera weight', 'Shell weight', 'Rings']])"
   ]
  },
  {
   "cell_type": "code",
   "execution_count": null,
   "id": "4cf78ebd",
   "metadata": {},
   "outputs": [],
   "source": [
    "# Rings vs Length and Sex\n",
    "\n",
    "plt.figure(figsize=(18,9))\n",
    "sns.boxenplot(df['Rings'], df['Length'], hue=df['Sex'], palette='Set1')\n",
    "plt.title('Rings VS Length and Sex', fontsize = 20)"
   ]
  },
  {
   "cell_type": "code",
   "execution_count": null,
   "id": "8813a188",
   "metadata": {},
   "outputs": [],
   "source": [
    "# Rings vs Diameter and Sex\n",
    "\n",
    "plt.figure(figsize=(18,9))\n",
    "sns.boxenplot(df['Rings'], df['Diameter'], hue=df['Sex'], palette='Set1')\n",
    "plt.title('Rings VS Diameter and Sex', fontsize = 20)"
   ]
  },
  {
   "cell_type": "code",
   "execution_count": null,
   "id": "40468c05",
   "metadata": {},
   "outputs": [],
   "source": [
    "# Rings vs Height and Sex\n",
    "\n",
    "plt.figure(figsize=(18,9))\n",
    "sns.boxenplot(df['Rings'], df['Height'], hue=df['Sex'], palette='Set1')\n",
    "plt.title('Rings VS Height and Sex', fontsize = 20)"
   ]
  },
  {
   "cell_type": "code",
   "execution_count": null,
   "id": "264d49ab",
   "metadata": {},
   "outputs": [],
   "source": [
    "# Rings vs Whole weight\n",
    "\n",
    "plt.figure(figsize=(18,9))\n",
    "sns.swarmplot(df['Rings'], df['Whole weight'])\n",
    "plt.title('Rings VS Whole weight', fontsize=20)"
   ]
  },
  {
   "cell_type": "code",
   "execution_count": null,
   "id": "cbe404a0",
   "metadata": {},
   "outputs": [],
   "source": [
    "# Rings vs Shucked weight\n",
    "\n",
    "plt.figure(figsize=(18,9))\n",
    "sns.swarmplot(df['Rings'], df['Shucked weight'], palette='dark')\n",
    "plt.title('Rings VS Shucked weight', fontsize=20)"
   ]
  },
  {
   "cell_type": "code",
   "execution_count": null,
   "id": "95191f9c",
   "metadata": {},
   "outputs": [],
   "source": [
    "# Rings vs Viscera weight\n",
    "\n",
    "plt.figure(figsize=(18,9))\n",
    "sns.stripplot(df['Rings'], df['Viscera weight'])\n",
    "plt.title('Rings VS Viscera weight', fontsize=20)"
   ]
  },
  {
   "cell_type": "code",
   "execution_count": null,
   "id": "7514ca1b",
   "metadata": {},
   "outputs": [],
   "source": [
    "# Ringd vs Shell weight\n",
    "\n",
    "plt.figure(figsize=(18,9))\n",
    "sns.regplot(df['Rings'], df['Shell weight'])\n",
    "plt.title('Rings VS Shell weight', fontsize=20)"
   ]
  },
  {
   "cell_type": "code",
   "execution_count": null,
   "id": "483920d3",
   "metadata": {},
   "outputs": [],
   "source": [
    "# spliting the lable data\n",
    "\n",
    "y = df['Rings']\n",
    "x = df.drop(['Rings'], axis=1)"
   ]
  },
  {
   "cell_type": "code",
   "execution_count": null,
   "id": "12998d90",
   "metadata": {},
   "outputs": [],
   "source": [
    "# Spliting the dataset\n",
    "\n",
    "from sklearn.model_selection import train_test_split\n",
    "\n",
    "x_train, x_test, y_train, y_test = train_test_split(x, y , test_size=0.2, random_state=0)\n",
    "\n",
    "# Checking the shape after split\n",
    "print(\"Shape of x_Train :\", x_train.shape)\n",
    "print(\"Shape of x_Test :\", x_test.shape)\n",
    "print(\"Shape of y_Train :\", y_train.shape)\n",
    "print(\"Shape of x_Test :\", y_test.shape)"
   ]
  },
  {
   "cell_type": "code",
   "execution_count": null,
   "id": "3fd93e59",
   "metadata": {},
   "outputs": [],
   "source": [
    "# Modelling \n",
    "# Random forest regression\n",
    "\n",
    "from sklearn.ensemble import RandomForestClassifier\n",
    "from sklearn.metrics import mean_squared_error\n",
    "from sklearn.metrics import r2_score\n",
    "\n",
    "model = RandomForestClassifier()\n",
    "model.fit(x_train, y_train)\n",
    "y_pred = model.predict(x_test)\n",
    "\n",
    "# Evaluation\n",
    "\n",
    "mse = mean_squared_error(y_test, y_pred)\n",
    "rmse = np.sqrt(mse)\n",
    "print(\"RMSE :\", rmse)\n",
    "\n",
    "# R2 score\n",
    "r2 = r2_score(y_test, y_pred)\n",
    "print(\"R2 Score :\", r2)"
   ]
  },
  {
   "cell_type": "code",
   "execution_count": null,
   "id": "da0e4e55",
   "metadata": {},
   "outputs": [],
   "source": [
    "# KNN\n",
    "\n",
    "from sklearn.neighbors import KNeighborsClassifier\n",
    "\n",
    "# Initializing classifier and giving hyperparameter K=3\n",
    "knn = KNeighborsClassifier(n_neighbors=3)\n",
    "# Traning classifier\n",
    "knn.fit(x_train, y_train)\n",
    "# Evaluate the classifier\n",
    "print(knn.score(x_test, y_test))\n",
    "\n",
    "# Try changing hyperparameter\n",
    "knn = KNeighborsClassifier(n_neighbors=5)\n",
    "knn.fit(x_train, y_train)\n",
    "print(knn.score(x_test, y_test))"
   ]
  },
  {
   "cell_type": "code",
   "execution_count": null,
   "id": "9e7895e8",
   "metadata": {},
   "outputs": [],
   "source": [
    "# Logistic Regression\n",
    "\n",
    "from sklearn.linear_model import LogisticRegression\n",
    "\n",
    "# Initializing classifier with one-v-rest approach\n",
    "logr = LogisticRegression(multi_class= 'ovr', random_state=10)\n",
    "# Traning classifier\n",
    "logr.fit(x_train, y_train)\n",
    "# Evaluate the classifier\n",
    "print(logr.score(x_test, y_test))"
   ]
  },
  {
   "cell_type": "code",
   "execution_count": null,
   "id": "a630d427",
   "metadata": {},
   "outputs": [],
   "source": [
    "# Decision Tree\n",
    "\n",
    "from sklearn.tree import plot_tree\n",
    "from sklearn.tree import DecisionTreeClassifier\n",
    "\n",
    "# Initializing classifier\n",
    "dtc = DecisionTreeClassifier(random_state=8, max_depth=6)\n",
    "# Traning classifier\n",
    "dtc.fit(x_train, y_train)\n",
    "# Evaluate the classifier\n",
    "print(dtc.score(x_test, y_test))"
   ]
  },
  {
   "cell_type": "markdown",
   "id": "51347b0a",
   "metadata": {},
   "source": [
    "# Thank you"
   ]
  },
  {
   "cell_type": "code",
   "execution_count": null,
   "id": "59b6c66c",
   "metadata": {},
   "outputs": [],
   "source": []
  }
 ],
 "metadata": {
  "kernelspec": {
   "display_name": "Python 3",
   "language": "python",
   "name": "python3"
  },
  "language_info": {
   "codemirror_mode": {
    "name": "ipython",
    "version": 3
   },
   "file_extension": ".py",
   "mimetype": "text/x-python",
   "name": "python",
   "nbconvert_exporter": "python",
   "pygments_lexer": "ipython3",
   "version": "3.8.8"
  }
 },
 "nbformat": 4,
 "nbformat_minor": 5
}
